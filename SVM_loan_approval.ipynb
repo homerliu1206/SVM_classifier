{
 "cells": [
  {
   "cell_type": "markdown",
   "id": "0da286e7",
   "metadata": {},
   "source": [
    "# Outline<a class=\"anchor\" id=\"outline\"></a>\n",
    "   [1. Background](#background)<br>\n",
    "   \n",
    "   [2. Data Section](#data)<br>\n",
    "   - [Step 1: Import Package Dependencies](#package)<br>\n",
    "   - [Step 2: Import Data](#import)<br>\n",
    "   - [Step 3:Train/Test Split](#split)<br>\n",
    "  \n",
    "   [3. Classification Modeling](#model)\n",
    "   - [SVM](#SVM)\n",
    "   - [Logistic Model](#logistic)\n",
    "   - [Pick a \"winning\" model](#pick)\n",
    "   - [Careful evaluation of winning model performance measures](#evaluate)"
   ]
  },
  {
   "cell_type": "markdown",
   "id": "d3d21a75",
   "metadata": {},
   "source": [
    "# Background<a class=\"anchor\" id=\"background\">\n",
    "[Go to Top](#outline)"
   ]
  },
  {
   "cell_type": "markdown",
   "id": "f10875be",
   "metadata": {},
   "source": [
    "**Target Variable:** approved\n",
    "\n",
    "**Background:** A large regional bank wants to predict whether customer loan applications can be approved based on past customer data, including factors such as gender, age, occupation, marital status, and others.  "
   ]
  },
  {
   "cell_type": "markdown",
   "id": "a6a91b99",
   "metadata": {},
   "source": [
    "# Data Section<a class=\"anchor\" id=\"data\">\n",
    "[Go to Top](#outline)\n",
    "> **Step 1:** Import Package Dependencies\n",
    "    \n",
    "> **Step 2:** Import Data\n",
    "    \n",
    "> **Step 3:** Train/Test Split"
   ]
  },
  {
   "cell_type": "markdown",
   "id": "6f3f978e",
   "metadata": {},
   "source": [
    "## Step 1: Import Package Dependencies<a class=\"anchor\" id=\"package\">"
   ]
  },
  {
   "cell_type": "code",
   "execution_count": 1,
   "id": "c0dd04ea",
   "metadata": {},
   "outputs": [],
   "source": [
    "import warnings\n",
    "import pandas as pd\n",
    "import numpy as np\n",
    "import matplotlib.pyplot as plt\n",
    "from sklearn.svm import SVC\n",
    "from sklearn.metrics import accuracy_score\n",
    "from sklearn.linear_model import LogisticRegression\n",
    "from sklearn.model_selection import train_test_split\n",
    "from sklearn.metrics import f1_score, classification_report\n",
    "from sklearn.metrics import confusion_matrix, classification_report, precision_score, recall_score, f1_score, accuracy_score"
   ]
  },
  {
   "cell_type": "markdown",
   "id": "345d977c",
   "metadata": {},
   "source": [
    "## Step 2: Import data<a class=\"anchor\" id=\"import\">"
   ]
  },
  {
   "cell_type": "code",
   "execution_count": 2,
   "id": "1da804aa",
   "metadata": {},
   "outputs": [],
   "source": [
    "df = pd.read_csv(\"loan_approval.csv\")"
   ]
  },
  {
   "cell_type": "code",
   "execution_count": 3,
   "id": "175d9e17",
   "metadata": {},
   "outputs": [
    {
     "data": {
      "text/html": [
       "<div>\n",
       "<style scoped>\n",
       "    .dataframe tbody tr th:only-of-type {\n",
       "        vertical-align: middle;\n",
       "    }\n",
       "\n",
       "    .dataframe tbody tr th {\n",
       "        vertical-align: top;\n",
       "    }\n",
       "\n",
       "    .dataframe thead th {\n",
       "        text-align: right;\n",
       "    }\n",
       "</style>\n",
       "<table border=\"1\" class=\"dataframe\">\n",
       "  <thead>\n",
       "    <tr style=\"text-align: right;\">\n",
       "      <th></th>\n",
       "      <th>approved</th>\n",
       "      <th>gender</th>\n",
       "      <th>age</th>\n",
       "      <th>debt</th>\n",
       "      <th>married</th>\n",
       "      <th>bank_customer</th>\n",
       "      <th>emp_industrial</th>\n",
       "      <th>emp_materials</th>\n",
       "      <th>emp_consumer_services</th>\n",
       "      <th>emp_healthcare</th>\n",
       "      <th>...</th>\n",
       "      <th>ethnicity_other</th>\n",
       "      <th>years_employed</th>\n",
       "      <th>prior_default</th>\n",
       "      <th>employed</th>\n",
       "      <th>credit_score</th>\n",
       "      <th>drivers_license</th>\n",
       "      <th>citizen_bybirth</th>\n",
       "      <th>citizen_other</th>\n",
       "      <th>citizen_temporary</th>\n",
       "      <th>Income</th>\n",
       "    </tr>\n",
       "  </thead>\n",
       "  <tbody>\n",
       "    <tr>\n",
       "      <th>0</th>\n",
       "      <td>1</td>\n",
       "      <td>1</td>\n",
       "      <td>30.83</td>\n",
       "      <td>0.000</td>\n",
       "      <td>1</td>\n",
       "      <td>1</td>\n",
       "      <td>1</td>\n",
       "      <td>0</td>\n",
       "      <td>0</td>\n",
       "      <td>0</td>\n",
       "      <td>...</td>\n",
       "      <td>0</td>\n",
       "      <td>1.25</td>\n",
       "      <td>1</td>\n",
       "      <td>1</td>\n",
       "      <td>1</td>\n",
       "      <td>0</td>\n",
       "      <td>1</td>\n",
       "      <td>0</td>\n",
       "      <td>0</td>\n",
       "      <td>0</td>\n",
       "    </tr>\n",
       "    <tr>\n",
       "      <th>1</th>\n",
       "      <td>1</td>\n",
       "      <td>0</td>\n",
       "      <td>58.67</td>\n",
       "      <td>4.460</td>\n",
       "      <td>1</td>\n",
       "      <td>1</td>\n",
       "      <td>0</td>\n",
       "      <td>1</td>\n",
       "      <td>0</td>\n",
       "      <td>0</td>\n",
       "      <td>...</td>\n",
       "      <td>0</td>\n",
       "      <td>3.04</td>\n",
       "      <td>1</td>\n",
       "      <td>1</td>\n",
       "      <td>6</td>\n",
       "      <td>0</td>\n",
       "      <td>1</td>\n",
       "      <td>0</td>\n",
       "      <td>0</td>\n",
       "      <td>560</td>\n",
       "    </tr>\n",
       "    <tr>\n",
       "      <th>2</th>\n",
       "      <td>1</td>\n",
       "      <td>0</td>\n",
       "      <td>24.50</td>\n",
       "      <td>0.500</td>\n",
       "      <td>1</td>\n",
       "      <td>1</td>\n",
       "      <td>0</td>\n",
       "      <td>1</td>\n",
       "      <td>0</td>\n",
       "      <td>0</td>\n",
       "      <td>...</td>\n",
       "      <td>0</td>\n",
       "      <td>1.50</td>\n",
       "      <td>1</td>\n",
       "      <td>0</td>\n",
       "      <td>0</td>\n",
       "      <td>0</td>\n",
       "      <td>1</td>\n",
       "      <td>0</td>\n",
       "      <td>0</td>\n",
       "      <td>824</td>\n",
       "    </tr>\n",
       "    <tr>\n",
       "      <th>3</th>\n",
       "      <td>1</td>\n",
       "      <td>1</td>\n",
       "      <td>27.83</td>\n",
       "      <td>1.540</td>\n",
       "      <td>1</td>\n",
       "      <td>1</td>\n",
       "      <td>1</td>\n",
       "      <td>0</td>\n",
       "      <td>0</td>\n",
       "      <td>0</td>\n",
       "      <td>...</td>\n",
       "      <td>0</td>\n",
       "      <td>3.75</td>\n",
       "      <td>1</td>\n",
       "      <td>1</td>\n",
       "      <td>5</td>\n",
       "      <td>1</td>\n",
       "      <td>1</td>\n",
       "      <td>0</td>\n",
       "      <td>0</td>\n",
       "      <td>3</td>\n",
       "    </tr>\n",
       "    <tr>\n",
       "      <th>4</th>\n",
       "      <td>1</td>\n",
       "      <td>1</td>\n",
       "      <td>20.17</td>\n",
       "      <td>5.625</td>\n",
       "      <td>1</td>\n",
       "      <td>1</td>\n",
       "      <td>1</td>\n",
       "      <td>0</td>\n",
       "      <td>0</td>\n",
       "      <td>0</td>\n",
       "      <td>...</td>\n",
       "      <td>0</td>\n",
       "      <td>1.71</td>\n",
       "      <td>1</td>\n",
       "      <td>0</td>\n",
       "      <td>0</td>\n",
       "      <td>0</td>\n",
       "      <td>0</td>\n",
       "      <td>1</td>\n",
       "      <td>0</td>\n",
       "      <td>0</td>\n",
       "    </tr>\n",
       "  </tbody>\n",
       "</table>\n",
       "<p>5 rows × 27 columns</p>\n",
       "</div>"
      ],
      "text/plain": [
       "   approved  gender    age   debt  married  bank_customer  emp_industrial  \\\n",
       "0         1       1  30.83  0.000        1              1               1   \n",
       "1         1       0  58.67  4.460        1              1               0   \n",
       "2         1       0  24.50  0.500        1              1               0   \n",
       "3         1       1  27.83  1.540        1              1               1   \n",
       "4         1       1  20.17  5.625        1              1               1   \n",
       "\n",
       "   emp_materials  emp_consumer_services  emp_healthcare  ...  ethnicity_other  \\\n",
       "0              0                      0               0  ...                0   \n",
       "1              1                      0               0  ...                0   \n",
       "2              1                      0               0  ...                0   \n",
       "3              0                      0               0  ...                0   \n",
       "4              0                      0               0  ...                0   \n",
       "\n",
       "   years_employed  prior_default  employed  credit_score  drivers_license  \\\n",
       "0            1.25              1         1             1                0   \n",
       "1            3.04              1         1             6                0   \n",
       "2            1.50              1         0             0                0   \n",
       "3            3.75              1         1             5                1   \n",
       "4            1.71              1         0             0                0   \n",
       "\n",
       "   citizen_bybirth  citizen_other  citizen_temporary  Income  \n",
       "0                1              0                  0       0  \n",
       "1                1              0                  0     560  \n",
       "2                1              0                  0     824  \n",
       "3                1              0                  0       3  \n",
       "4                0              1                  0       0  \n",
       "\n",
       "[5 rows x 27 columns]"
      ]
     },
     "execution_count": 3,
     "metadata": {},
     "output_type": "execute_result"
    }
   ],
   "source": [
    "df.head()"
   ]
  },
  {
   "cell_type": "code",
   "execution_count": 4,
   "id": "c2b3cc71",
   "metadata": {},
   "outputs": [
    {
     "data": {
      "text/plain": [
       "Index(['approved', 'gender', 'age', 'debt', 'married', 'bank_customer',\n",
       "       'emp_industrial', 'emp_materials', 'emp_consumer_services',\n",
       "       'emp_healthcare', 'emp_financials', 'emp_utilities', 'emp_education',\n",
       "       'ethnicity_white', 'ethnicity_black', 'ethnicity_latino',\n",
       "       'ethnicity_asian', 'ethnicity_other', 'years_employed', 'prior_default',\n",
       "       'employed', 'credit_score', 'drivers_license', 'citizen_bybirth',\n",
       "       'citizen_other', 'citizen_temporary', 'Income'],\n",
       "      dtype='object')"
      ]
     },
     "execution_count": 4,
     "metadata": {},
     "output_type": "execute_result"
    }
   ],
   "source": [
    "df.columns"
   ]
  },
  {
   "cell_type": "markdown",
   "id": "3914df65",
   "metadata": {},
   "source": [
    "## Step 3: Train/Test Split<a class=\"anchor\" id=\"split\">"
   ]
  },
  {
   "cell_type": "code",
   "execution_count": 1,
   "id": "bda0bb16",
   "metadata": {},
   "outputs": [
    {
     "ename": "NameError",
     "evalue": "name 'df' is not defined",
     "output_type": "error",
     "traceback": [
      "\u001b[0;31m---------------------------------------------------------------------------\u001b[0m",
      "\u001b[0;31mNameError\u001b[0m                                 Traceback (most recent call last)",
      "Cell \u001b[0;32mIn[1], line 1\u001b[0m\n\u001b[0;32m----> 1\u001b[0m X \u001b[38;5;241m=\u001b[39m df\u001b[38;5;241m.\u001b[39mdrop(columns\u001b[38;5;241m=\u001b[39m[\u001b[38;5;124m'\u001b[39m\u001b[38;5;124mapproved\u001b[39m\u001b[38;5;124m'\u001b[39m])\n\u001b[1;32m      2\u001b[0m y \u001b[38;5;241m=\u001b[39m df[\u001b[38;5;124m'\u001b[39m\u001b[38;5;124mapproved\u001b[39m\u001b[38;5;124m'\u001b[39m]\n\u001b[1;32m      4\u001b[0m X_train, X_test, y_train, y_test \u001b[38;5;241m=\u001b[39m train_test_split(X, y, test_size \u001b[38;5;241m=\u001b[39m \u001b[38;5;241m0.3\u001b[39m, random_state \u001b[38;5;241m=\u001b[39m \u001b[38;5;241m1\u001b[39m)\n",
      "\u001b[0;31mNameError\u001b[0m: name 'df' is not defined"
     ]
    }
   ],
   "source": [
    "X = df.drop(columns=['approved'])\n",
    "y = df['approved']\n",
    "\n",
    "X_train, X_test, y_train, y_test = train_test_split(X, y, test_size = 0.3, random_state = 1)"
   ]
  },
  {
   "cell_type": "markdown",
   "id": "8d1c27cd",
   "metadata": {},
   "source": [
    "# Classification Modeling<a class=\"anchor\" id=\"model\">\n",
    "[Go to Top](#outline)\n",
    "### SVM\n",
    "- **Step 1:** Find the best C value<br>\n",
    "- **Step 2:** Train the final SVM model<br>\n",
    "- **Step 3:** Table of Performance Measures<br>\n",
    "    \n",
    "    \n",
    "### Logistic Model\n",
    "- **Step 1:** Train a Logistic model\n",
    "- **Step 2:** Table of Performance Measures\n",
    "\n",
    "### Pick a \"winning\" model\n",
    "\n",
    "### Careful evaluation of winning model performance measures"
   ]
  },
  {
   "cell_type": "markdown",
   "id": "0c8b4bfe",
   "metadata": {},
   "source": [
    "## SVM<a class=\"anchor\" id=\"SVM\">"
   ]
  },
  {
   "cell_type": "markdown",
   "id": "1bf5326b",
   "metadata": {},
   "source": [
    "### Step 1: Find the best C value"
   ]
  },
  {
   "cell_type": "code",
   "execution_count": 9,
   "id": "fc6b784f",
   "metadata": {},
   "outputs": [
    {
     "data": {
      "text/html": [
       "<div>\n",
       "<style scoped>\n",
       "    .dataframe tbody tr th:only-of-type {\n",
       "        vertical-align: middle;\n",
       "    }\n",
       "\n",
       "    .dataframe tbody tr th {\n",
       "        vertical-align: top;\n",
       "    }\n",
       "\n",
       "    .dataframe thead th {\n",
       "        text-align: right;\n",
       "    }\n",
       "</style>\n",
       "<table border=\"1\" class=\"dataframe\">\n",
       "  <thead>\n",
       "    <tr style=\"text-align: right;\">\n",
       "      <th></th>\n",
       "      <th>C_value</th>\n",
       "      <th>Train_Accuracy</th>\n",
       "      <th>Test_Accuracy</th>\n",
       "      <th>F1_Score_Class1</th>\n",
       "    </tr>\n",
       "  </thead>\n",
       "  <tbody>\n",
       "    <tr>\n",
       "      <th>0</th>\n",
       "      <td>0.0001</td>\n",
       "      <td>0.546584</td>\n",
       "      <td>0.599034</td>\n",
       "      <td>0.045977</td>\n",
       "    </tr>\n",
       "    <tr>\n",
       "      <th>1</th>\n",
       "      <td>0.0010</td>\n",
       "      <td>0.550725</td>\n",
       "      <td>0.608696</td>\n",
       "      <td>0.089888</td>\n",
       "    </tr>\n",
       "    <tr>\n",
       "      <th>2</th>\n",
       "      <td>0.0100</td>\n",
       "      <td>0.559006</td>\n",
       "      <td>0.618357</td>\n",
       "      <td>0.131868</td>\n",
       "    </tr>\n",
       "    <tr>\n",
       "      <th>3</th>\n",
       "      <td>0.1000</td>\n",
       "      <td>0.569358</td>\n",
       "      <td>0.632850</td>\n",
       "      <td>0.191489</td>\n",
       "    </tr>\n",
       "    <tr>\n",
       "      <th>4</th>\n",
       "      <td>1.0000</td>\n",
       "      <td>0.579710</td>\n",
       "      <td>0.628019</td>\n",
       "      <td>0.222222</td>\n",
       "    </tr>\n",
       "    <tr>\n",
       "      <th>5</th>\n",
       "      <td>10.0000</td>\n",
       "      <td>0.585921</td>\n",
       "      <td>0.623188</td>\n",
       "      <td>0.220000</td>\n",
       "    </tr>\n",
       "    <tr>\n",
       "      <th>6</th>\n",
       "      <td>100.0000</td>\n",
       "      <td>0.592133</td>\n",
       "      <td>0.647343</td>\n",
       "      <td>0.304762</td>\n",
       "    </tr>\n",
       "    <tr>\n",
       "      <th>7</th>\n",
       "      <td>1000.0000</td>\n",
       "      <td>0.592133</td>\n",
       "      <td>0.642512</td>\n",
       "      <td>0.288462</td>\n",
       "    </tr>\n",
       "    <tr>\n",
       "      <th>8</th>\n",
       "      <td>10000.0000</td>\n",
       "      <td>0.592133</td>\n",
       "      <td>0.642512</td>\n",
       "      <td>0.288462</td>\n",
       "    </tr>\n",
       "  </tbody>\n",
       "</table>\n",
       "</div>"
      ],
      "text/plain": [
       "      C_value  Train_Accuracy  Test_Accuracy  F1_Score_Class1\n",
       "0      0.0001        0.546584       0.599034         0.045977\n",
       "1      0.0010        0.550725       0.608696         0.089888\n",
       "2      0.0100        0.559006       0.618357         0.131868\n",
       "3      0.1000        0.569358       0.632850         0.191489\n",
       "4      1.0000        0.579710       0.628019         0.222222\n",
       "5     10.0000        0.585921       0.623188         0.220000\n",
       "6    100.0000        0.592133       0.647343         0.304762\n",
       "7   1000.0000        0.592133       0.642512         0.288462\n",
       "8  10000.0000        0.592133       0.642512         0.288462"
      ]
     },
     "execution_count": 9,
     "metadata": {},
     "output_type": "execute_result"
    }
   ],
   "source": [
    "# Define the range of C values to be tested\n",
    "C_values = [0.0001, 0.001, 0.01, 0.1, 1, 10, 100, 1000, 10000]\n",
    "\n",
    "# Initialize lists to store results\n",
    "train_accuracies = []\n",
    "test_accuracies = []\n",
    "f1_scores_class1 = []\n",
    "\n",
    "# Loop over each value of C to train the SVM model and evaluate performance\n",
    "for C in C_values:\n",
    "    svm_model_loop = SVC(C=C, kernel='poly')\n",
    "    svm_model_loop.fit(X_train, y_train)\n",
    "\n",
    "    # Predictions and evaluation\n",
    "    y_pred_train_loop = svm_model_loop.predict(X_train)\n",
    "    y_pred_test_loop = svm_model_loop.predict(X_test)\n",
    "\n",
    "    train_accuracies.append(accuracy_score(y_train, y_pred_train_loop))\n",
    "    test_accuracies.append(accuracy_score(y_test, y_pred_test_loop))\n",
    "    f1_scores_class1.append(f1_score(y_test, y_pred_test_loop, pos_label=1))\n",
    "\n",
    "# Compile results into a DataFrame for better visualization\n",
    "results_df = pd.DataFrame({\n",
    "    'C_value': C_values,\n",
    "    'Train_Accuracy': train_accuracies,\n",
    "    'Test_Accuracy': test_accuracies,\n",
    "    'F1_Score_Class1': f1_scores_class1\n",
    "})\n",
    "\n",
    "results_df"
   ]
  },
  {
   "cell_type": "code",
   "execution_count": 10,
   "id": "83ac99bd",
   "metadata": {
    "scrolled": false
   },
   "outputs": [
    {
     "data": {
      "image/png": "[encoded data removed]",
      "text/plain": [
       "<Figure size 1200x800 with 1 Axes>"
      ]
     },
     "metadata": {},
     "output_type": "display_data"
    }
   ],
   "source": [
    "# Initialize the plot\n",
    "plt.figure(figsize=(12, 8))\n",
    "\n",
    "# Plotting the metrics\n",
    "plt.plot(results_df['C_value'], results_df['Train_Accuracy'], marker='o', label='Training Accuracy')\n",
    "plt.plot(results_df['C_value'], results_df['Test_Accuracy'], marker='x', label='Test Accuracy')\n",
    "plt.plot(results_df['C_value'], results_df['F1_Score_Class1'], marker='s', label='F1 Score for Class 1')\n",
    "\n",
    "# Annotate the plot\n",
    "plt.xlabel('Regularization Parameter C')\n",
    "plt.ylabel('Performance Metrics')\n",
    "plt.title('Performance Metrics Across Different Regularization Parameters (C)')\n",
    "plt.xscale('log')\n",
    "plt.xticks(results_df['C_value'], labels=results_df['C_value'])\n",
    "plt.legend()\n",
    "plt.grid(True)\n",
    "\n",
    "# Show the plot\n",
    "plt.show()"
   ]
  },
  {
   "cell_type": "markdown",
   "id": "8c7d91f6",
   "metadata": {},
   "source": [
    "### **Conclusion:** \n",
    "Regard '100' as the best C value because the model has the highest performance when C value = 100."
   ]
  },
  {
   "cell_type": "markdown",
   "id": "9ec5699d",
   "metadata": {},
   "source": [
    "## Step 2: Train the final SVM model"
   ]
  },
  {
   "cell_type": "code",
   "execution_count": 11,
   "id": "48847148",
   "metadata": {
    "scrolled": true
   },
   "outputs": [
    {
     "data": {
      "text/html": [
       "<style>#sk-container-id-1 {color: black;}#sk-container-id-1 pre{padding: 0;}#sk-container-id-1 div.sk-toggleable {background-color: white;}#sk-container-id-1 label.sk-toggleable__label {cursor: pointer;display: block;width: 100%;margin-bottom: 0;padding: 0.3em;box-sizing: border-box;text-align: center;}#sk-container-id-1 label.sk-toggleable__label-arrow:before {content: \"▸\";float: left;margin-right: 0.25em;color: #696969;}#sk-container-id-1 label.sk-toggleable__label-arrow:hover:before {color: black;}#sk-container-id-1 div.sk-estimator:hover label.sk-toggleable__label-arrow:before {color: black;}#sk-container-id-1 div.sk-toggleable__content {max-height: 0;max-width: 0;overflow: hidden;text-align: left;background-color: #f0f8ff;}#sk-container-id-1 div.sk-toggleable__content pre {margin: 0.2em;color: black;border-radius: 0.25em;background-color: #f0f8ff;}#sk-container-id-1 input.sk-toggleable__control:checked~div.sk-toggleable__content {max-height: 200px;max-width: 100%;overflow: auto;}#sk-container-id-1 input.sk-toggleable__control:checked~label.sk-toggleable__label-arrow:before {content: \"▾\";}#sk-container-id-1 div.sk-estimator input.sk-toggleable__control:checked~label.sk-toggleable__label {background-color: #d4ebff;}#sk-container-id-1 div.sk-label input.sk-toggleable__control:checked~label.sk-toggleable__label {background-color: #d4ebff;}#sk-container-id-1 input.sk-hidden--visually {border: 0;clip: rect(1px 1px 1px 1px);clip: rect(1px, 1px, 1px, 1px);height: 1px;margin: -1px;overflow: hidden;padding: 0;position: absolute;width: 1px;}#sk-container-id-1 div.sk-estimator {font-family: monospace;background-color: #f0f8ff;border: 1px dotted black;border-radius: 0.25em;box-sizing: border-box;margin-bottom: 0.5em;}#sk-container-id-1 div.sk-estimator:hover {background-color: #d4ebff;}#sk-container-id-1 div.sk-parallel-item::after {content: \"\";width: 100%;border-bottom: 1px solid gray;flex-grow: 1;}#sk-container-id-1 div.sk-label:hover label.sk-toggleable__label {background-color: #d4ebff;}#sk-container-id-1 div.sk-serial::before {content: \"\";position: absolute;border-left: 1px solid gray;box-sizing: border-box;top: 0;bottom: 0;left: 50%;z-index: 0;}#sk-container-id-1 div.sk-serial {display: flex;flex-direction: column;align-items: center;background-color: white;padding-right: 0.2em;padding-left: 0.2em;position: relative;}#sk-container-id-1 div.sk-item {position: relative;z-index: 1;}#sk-container-id-1 div.sk-parallel {display: flex;align-items: stretch;justify-content: center;background-color: white;position: relative;}#sk-container-id-1 div.sk-item::before, #sk-container-id-1 div.sk-parallel-item::before {content: \"\";position: absolute;border-left: 1px solid gray;box-sizing: border-box;top: 0;bottom: 0;left: 50%;z-index: -1;}#sk-container-id-1 div.sk-parallel-item {display: flex;flex-direction: column;z-index: 1;position: relative;background-color: white;}#sk-container-id-1 div.sk-parallel-item:first-child::after {align-self: flex-end;width: 50%;}#sk-container-id-1 div.sk-parallel-item:last-child::after {align-self: flex-start;width: 50%;}#sk-container-id-1 div.sk-parallel-item:only-child::after {width: 0;}#sk-container-id-1 div.sk-dashed-wrapped {border: 1px dashed gray;margin: 0 0.4em 0.5em 0.4em;box-sizing: border-box;padding-bottom: 0.4em;background-color: white;}#sk-container-id-1 div.sk-label label {font-family: monospace;font-weight: bold;display: inline-block;line-height: 1.2em;}#sk-container-id-1 div.sk-label-container {text-align: center;}#sk-container-id-1 div.sk-container {/* jupyter's `normalize.less` sets `[hidden] { display: none; }` but bootstrap.min.css set `[hidden] { display: none !important; }` so we also need the `!important` here to be able to override the default hidden behavior on the sphinx rendered scikit-learn.org. See: https://github.com/scikit-learn/scikit-learn/issues/21755 */display: inline-block !important;position: relative;}#sk-container-id-1 div.sk-text-repr-fallback {display: none;}</style><div id=\"sk-container-id-1\" class=\"sk-top-container\"><div class=\"sk-text-repr-fallback\"><pre>SVC(C=100, kernel=&#x27;poly&#x27;)</pre><b>In a Jupyter environment, please rerun this cell to show the HTML representation or trust the notebook. <br />On GitHub, the HTML representation is unable to render, please try loading this page with nbviewer.org.</b></div><div class=\"sk-container\" hidden><div class=\"sk-item\"><div class=\"sk-estimator sk-toggleable\"><input class=\"sk-toggleable__control sk-hidden--visually\" id=\"sk-estimator-id-1\" type=\"checkbox\" checked><label for=\"sk-estimator-id-1\" class=\"sk-toggleable__label sk-toggleable__label-arrow\">SVC</label><div class=\"sk-toggleable__content\"><pre>SVC(C=100, kernel=&#x27;poly&#x27;)</pre></div></div></div></div></div>"
      ],
      "text/plain": [
       "SVC(C=100, kernel='poly')"
      ]
     },
     "execution_count": 11,
     "metadata": {},
     "output_type": "execute_result"
    }
   ],
   "source": [
    "c_value = 100\n",
    "\n",
    "# Initialize and train the SVM model and a polynomial kernel\n",
    "svm_model_poly = SVC(C=c_value, kernel='poly')\n",
    "svm_model_poly.fit(X_train, y_train)"
   ]
  },
  {
   "cell_type": "markdown",
   "id": "2e033c0f",
   "metadata": {},
   "source": [
    "## Step 3: Table of Performance Measures"
   ]
  },
  {
   "cell_type": "code",
   "execution_count": 16,
   "id": "2efc48dd",
   "metadata": {},
   "outputs": [
    {
     "name": "stdout",
     "output_type": "stream",
     "text": [
      "\n",
      "    Train_Accuracy: 0.5921325051759835,\n",
      "    Test_Accuracy: 0.6473429951690821,\n",
      "    F1_Score_Class1: 0.3047619047619048\n"
     ]
    }
   ],
   "source": [
    "svm_model_poly = SVC(C=100, kernel='poly')\n",
    "svm_model_poly.fit(X_train, y_train)\n",
    "\n",
    "# Predictions and evaluation\n",
    "y_pred_train_poly = svm_model_poly.predict(X_train)\n",
    "y_pred_test_poly = svm_model_poly.predict(X_test)\n",
    "\n",
    "train_accuracies = accuracy_score(y_train, y_pred_train_poly)\n",
    "test_accuracies = accuracy_score(y_test, y_pred_test_poly)\n",
    "f1_scores_class1 = f1_score(y_test, y_pred_test_poly, pos_label=1)\n",
    "\n",
    "print(f\"\"\"\n",
    "    Train_Accuracy: {train_accuracies},\n",
    "    Test_Accuracy: {test_accuracies},\n",
    "    F1_Score_Class1: {f1_scores_class1}\"\"\")"
   ]
  },
  {
   "cell_type": "markdown",
   "id": "b4518676",
   "metadata": {},
   "source": [
    "## Logistic Model<a class=\"anchor\" id=\"logistic\">"
   ]
  },
  {
   "cell_type": "markdown",
   "id": "8a4292f4",
   "metadata": {},
   "source": [
    "## Step 1: Train a Logistic model"
   ]
  },
  {
   "cell_type": "code",
   "execution_count": 17,
   "id": "96f7bf71",
   "metadata": {},
   "outputs": [
    {
     "name": "stderr",
     "output_type": "stream",
     "text": [
      "/Users/homerliu/anaconda3/lib/python3.11/site-packages/sklearn/linear_model/_logistic.py:460: ConvergenceWarning: lbfgs failed to converge (status=1):\n",
      "STOP: TOTAL NO. of ITERATIONS REACHED LIMIT.\n",
      "\n",
      "Increase the number of iterations (max_iter) or scale the data as shown in:\n",
      "    https://scikit-learn.org/stable/modules/preprocessing.html\n",
      "Please also refer to the documentation for alternative solver options:\n",
      "    https://scikit-learn.org/stable/modules/linear_model.html#logistic-regression\n",
      "  n_iter_i = _check_optimize_result(\n"
     ]
    },
    {
     "data": {
      "text/html": [
       "<style>#sk-container-id-3 {color: black;}#sk-container-id-3 pre{padding: 0;}#sk-container-id-3 div.sk-toggleable {background-color: white;}#sk-container-id-3 label.sk-toggleable__label {cursor: pointer;display: block;width: 100%;margin-bottom: 0;padding: 0.3em;box-sizing: border-box;text-align: center;}#sk-container-id-3 label.sk-toggleable__label-arrow:before {content: \"▸\";float: left;margin-right: 0.25em;color: #696969;}#sk-container-id-3 label.sk-toggleable__label-arrow:hover:before {color: black;}#sk-container-id-3 div.sk-estimator:hover label.sk-toggleable__label-arrow:before {color: black;}#sk-container-id-3 div.sk-toggleable__content {max-height: 0;max-width: 0;overflow: hidden;text-align: left;background-color: #f0f8ff;}#sk-container-id-3 div.sk-toggleable__content pre {margin: 0.2em;color: black;border-radius: 0.25em;background-color: #f0f8ff;}#sk-container-id-3 input.sk-toggleable__control:checked~div.sk-toggleable__content {max-height: 200px;max-width: 100%;overflow: auto;}#sk-container-id-3 input.sk-toggleable__control:checked~label.sk-toggleable__label-arrow:before {content: \"▾\";}#sk-container-id-3 div.sk-estimator input.sk-toggleable__control:checked~label.sk-toggleable__label {background-color: #d4ebff;}#sk-container-id-3 div.sk-label input.sk-toggleable__control:checked~label.sk-toggleable__label {background-color: #d4ebff;}#sk-container-id-3 input.sk-hidden--visually {border: 0;clip: rect(1px 1px 1px 1px);clip: rect(1px, 1px, 1px, 1px);height: 1px;margin: -1px;overflow: hidden;padding: 0;position: absolute;width: 1px;}#sk-container-id-3 div.sk-estimator {font-family: monospace;background-color: #f0f8ff;border: 1px dotted black;border-radius: 0.25em;box-sizing: border-box;margin-bottom: 0.5em;}#sk-container-id-3 div.sk-estimator:hover {background-color: #d4ebff;}#sk-container-id-3 div.sk-parallel-item::after {content: \"\";width: 100%;border-bottom: 1px solid gray;flex-grow: 1;}#sk-container-id-3 div.sk-label:hover label.sk-toggleable__label {background-color: #d4ebff;}#sk-container-id-3 div.sk-serial::before {content: \"\";position: absolute;border-left: 1px solid gray;box-sizing: border-box;top: 0;bottom: 0;left: 50%;z-index: 0;}#sk-container-id-3 div.sk-serial {display: flex;flex-direction: column;align-items: center;background-color: white;padding-right: 0.2em;padding-left: 0.2em;position: relative;}#sk-container-id-3 div.sk-item {position: relative;z-index: 1;}#sk-container-id-3 div.sk-parallel {display: flex;align-items: stretch;justify-content: center;background-color: white;position: relative;}#sk-container-id-3 div.sk-item::before, #sk-container-id-3 div.sk-parallel-item::before {content: \"\";position: absolute;border-left: 1px solid gray;box-sizing: border-box;top: 0;bottom: 0;left: 50%;z-index: -1;}#sk-container-id-3 div.sk-parallel-item {display: flex;flex-direction: column;z-index: 1;position: relative;background-color: white;}#sk-container-id-3 div.sk-parallel-item:first-child::after {align-self: flex-end;width: 50%;}#sk-container-id-3 div.sk-parallel-item:last-child::after {align-self: flex-start;width: 50%;}#sk-container-id-3 div.sk-parallel-item:only-child::after {width: 0;}#sk-container-id-3 div.sk-dashed-wrapped {border: 1px dashed gray;margin: 0 0.4em 0.5em 0.4em;box-sizing: border-box;padding-bottom: 0.4em;background-color: white;}#sk-container-id-3 div.sk-label label {font-family: monospace;font-weight: bold;display: inline-block;line-height: 1.2em;}#sk-container-id-3 div.sk-label-container {text-align: center;}#sk-container-id-3 div.sk-container {/* jupyter's `normalize.less` sets `[hidden] { display: none; }` but bootstrap.min.css set `[hidden] { display: none !important; }` so we also need the `!important` here to be able to override the default hidden behavior on the sphinx rendered scikit-learn.org. See: https://github.com/scikit-learn/scikit-learn/issues/21755 */display: inline-block !important;position: relative;}#sk-container-id-3 div.sk-text-repr-fallback {display: none;}</style><div id=\"sk-container-id-3\" class=\"sk-top-container\"><div class=\"sk-text-repr-fallback\"><pre>LogisticRegression()</pre><b>In a Jupyter environment, please rerun this cell to show the HTML representation or trust the notebook. <br />On GitHub, the HTML representation is unable to render, please try loading this page with nbviewer.org.</b></div><div class=\"sk-container\" hidden><div class=\"sk-item\"><div class=\"sk-estimator sk-toggleable\"><input class=\"sk-toggleable__control sk-hidden--visually\" id=\"sk-estimator-id-3\" type=\"checkbox\" checked><label for=\"sk-estimator-id-3\" class=\"sk-toggleable__label sk-toggleable__label-arrow\">LogisticRegression</label><div class=\"sk-toggleable__content\"><pre>LogisticRegression()</pre></div></div></div></div></div>"
      ],
      "text/plain": [
       "LogisticRegression()"
      ]
     },
     "execution_count": 17,
     "metadata": {},
     "output_type": "execute_result"
    }
   ],
   "source": [
    "# Create a logistic regression model\n",
    "logistic_model = LogisticRegression()\n",
    "\n",
    "# Train the model on the training data\n",
    "logistic_model.fit(X_train, y_train)"
   ]
  },
  {
   "cell_type": "markdown",
   "id": "1c744150",
   "metadata": {},
   "source": [
    "## Step 2: Tabel of Performance Measures"
   ]
  },
  {
   "cell_type": "code",
   "execution_count": 18,
   "id": "581539d1",
   "metadata": {},
   "outputs": [
    {
     "name": "stdout",
     "output_type": "stream",
     "text": [
      "Accuracy of Logistic Model: 0.8840579710144928\n",
      " \n",
      "              precision    recall  f1-score   support\n",
      "\n",
      "           0       0.95      0.85      0.90       122\n",
      "           1       0.81      0.93      0.87        85\n",
      "\n",
      "    accuracy                           0.88       207\n",
      "   macro avg       0.88      0.89      0.88       207\n",
      "weighted avg       0.89      0.88      0.88       207\n",
      "\n"
     ]
    }
   ],
   "source": [
    "# Make predictions on the test set\n",
    "y_pred = logistic_model.predict(X_test)\n",
    "\n",
    "# Evaluate the model\n",
    "accuracy = accuracy_score(y_test, y_pred)\n",
    "classification_rep = classification_report(y_test, y_pred)\n",
    "\n",
    "print(f\"Accuracy of Logistic Model: {accuracy}\")\n",
    "print(\" \")\n",
    "print(classification_rep)"
   ]
  },
  {
   "cell_type": "markdown",
   "id": "551f20d5",
   "metadata": {},
   "source": [
    "## Pick a \"winning\" model<a class=\"anchor\" id=\"pick\">\n",
    "> Based on the various performance measures, decide which of the two modeling frameworks (SVM or Logistic) to move forward with. "
   ]
  },
  {
   "cell_type": "markdown",
   "id": "fe17ddc8",
   "metadata": {},
   "source": [
    "In my opinion, **Logistic Regression model** has better performance because the f1 score of Logistic Regression is about 0.88, but the f1 score of SVM is about 0.30. As a result, I prefer the model of Logistic Regression."
   ]
  },
  {
   "cell_type": "markdown",
   "id": "188e1270",
   "metadata": {},
   "source": [
    "## Careful evaluation of winning model performance measures<a class=\"anchor\" id=\"evaluate\">"
   ]
  },
  {
   "cell_type": "markdown",
   "id": "87a3651e",
   "metadata": {},
   "source": [
    "### Probability Threshold"
   ]
  },
  {
   "cell_type": "code",
   "execution_count": 24,
   "id": "4586d154",
   "metadata": {},
   "outputs": [
    {
     "name": "stderr",
     "output_type": "stream",
     "text": [
      "/var/folders/yb/kl11tnn56n1gmm6q28_4k7sw0000gn/T/ipykernel_8187/409917594.py:30: FutureWarning: The frame.append method is deprecated and will be removed from pandas in a future version. Use pandas.concat instead.\n",
      "  performance_df = performance_df.append({\n",
      "/var/folders/yb/kl11tnn56n1gmm6q28_4k7sw0000gn/T/ipykernel_8187/409917594.py:30: FutureWarning: The frame.append method is deprecated and will be removed from pandas in a future version. Use pandas.concat instead.\n",
      "  performance_df = performance_df.append({\n",
      "/var/folders/yb/kl11tnn56n1gmm6q28_4k7sw0000gn/T/ipykernel_8187/409917594.py:30: FutureWarning: The frame.append method is deprecated and will be removed from pandas in a future version. Use pandas.concat instead.\n",
      "  performance_df = performance_df.append({\n",
      "/var/folders/yb/kl11tnn56n1gmm6q28_4k7sw0000gn/T/ipykernel_8187/409917594.py:30: FutureWarning: The frame.append method is deprecated and will be removed from pandas in a future version. Use pandas.concat instead.\n",
      "  performance_df = performance_df.append({\n",
      "/var/folders/yb/kl11tnn56n1gmm6q28_4k7sw0000gn/T/ipykernel_8187/409917594.py:30: FutureWarning: The frame.append method is deprecated and will be removed from pandas in a future version. Use pandas.concat instead.\n",
      "  performance_df = performance_df.append({\n",
      "/var/folders/yb/kl11tnn56n1gmm6q28_4k7sw0000gn/T/ipykernel_8187/409917594.py:30: FutureWarning: The frame.append method is deprecated and will be removed from pandas in a future version. Use pandas.concat instead.\n",
      "  performance_df = performance_df.append({\n",
      "/var/folders/yb/kl11tnn56n1gmm6q28_4k7sw0000gn/T/ipykernel_8187/409917594.py:30: FutureWarning: The frame.append method is deprecated and will be removed from pandas in a future version. Use pandas.concat instead.\n",
      "  performance_df = performance_df.append({\n",
      "/var/folders/yb/kl11tnn56n1gmm6q28_4k7sw0000gn/T/ipykernel_8187/409917594.py:30: FutureWarning: The frame.append method is deprecated and will be removed from pandas in a future version. Use pandas.concat instead.\n",
      "  performance_df = performance_df.append({\n",
      "/var/folders/yb/kl11tnn56n1gmm6q28_4k7sw0000gn/T/ipykernel_8187/409917594.py:30: FutureWarning: The frame.append method is deprecated and will be removed from pandas in a future version. Use pandas.concat instead.\n",
      "  performance_df = performance_df.append({\n"
     ]
    }
   ],
   "source": [
    "# Replace these with your actual predicted probabilities and true labels\n",
    "predicted_probabilities = y_pred_test_poly\n",
    "true_labels = y_test\n",
    "\n",
    "# Define the range of probability thresholds\n",
    "# Thresholds will range from 0 to 0.4 with an interval of 0.05\n",
    "thresholds = np.arange(0, 0.41, 0.05)\n",
    "\n",
    "# Initialize an empty DataFrame to store performance metrics\n",
    "performance_df = pd.DataFrame(columns=['Threshold', 'TN', 'TP', 'FN', 'FP', 'Precision', 'Recall', 'F1', 'Accuracy'])\n",
    "\n",
    "# Iterate over each probability threshold, calculate performance metrics, and append to the DataFrame\n",
    "for threshold in thresholds:\n",
    "    # Convert predicted probabilities to binary predictions using the probability threshold\n",
    "    binary_predictions = (predicted_probabilities >= threshold).astype(int)\n",
    "    \n",
    "    # Calculate the confusion matrix\n",
    "    conf_matrix = confusion_matrix(true_labels, binary_predictions)\n",
    "    \n",
    "    # Extract TP, TN, FP, FN from the confusion matrix\n",
    "    tn, fp, fn, tp = conf_matrix.ravel()\n",
    "    \n",
    "    # Calculate other performance metrics\n",
    "    precision = precision_score(true_labels, binary_predictions)\n",
    "    recall = recall_score(true_labels, binary_predictions)\n",
    "    f1 = f1_score(true_labels, binary_predictions)\n",
    "    accuracy = accuracy_score(true_labels, binary_predictions)\n",
    "    \n",
    "    # Append a new row to the DataFrame\n",
    "    performance_df = performance_df.append({\n",
    "        'Threshold': threshold,\n",
    "        'TN': tn,\n",
    "        'TP': tp,\n",
    "        'FN': fn,\n",
    "        'FP': fp,\n",
    "        'Precision': precision,\n",
    "        'Recall': recall,\n",
    "        'F1': f1,\n",
    "        'Accuracy': accuracy\n",
    "    }, ignore_index=True)"
   ]
  },
  {
   "cell_type": "code",
   "execution_count": 25,
   "id": "94be4ef1",
   "metadata": {},
   "outputs": [
    {
     "data": {
      "text/html": [
       "<div>\n",
       "<style scoped>\n",
       "    .dataframe tbody tr th:only-of-type {\n",
       "        vertical-align: middle;\n",
       "    }\n",
       "\n",
       "    .dataframe tbody tr th {\n",
       "        vertical-align: top;\n",
       "    }\n",
       "\n",
       "    .dataframe thead th {\n",
       "        text-align: right;\n",
       "    }\n",
       "</style>\n",
       "<table border=\"1\" class=\"dataframe\">\n",
       "  <thead>\n",
       "    <tr style=\"text-align: right;\">\n",
       "      <th></th>\n",
       "      <th>Threshold</th>\n",
       "      <th>TN</th>\n",
       "      <th>TP</th>\n",
       "      <th>FN</th>\n",
       "      <th>FP</th>\n",
       "      <th>Precision</th>\n",
       "      <th>Recall</th>\n",
       "      <th>F1</th>\n",
       "      <th>Accuracy</th>\n",
       "    </tr>\n",
       "  </thead>\n",
       "  <tbody>\n",
       "    <tr>\n",
       "      <th>0</th>\n",
       "      <td>0.00</td>\n",
       "      <td>0.0</td>\n",
       "      <td>85.0</td>\n",
       "      <td>0.0</td>\n",
       "      <td>122.0</td>\n",
       "      <td>0.410628</td>\n",
       "      <td>1.000000</td>\n",
       "      <td>0.582192</td>\n",
       "      <td>0.410628</td>\n",
       "    </tr>\n",
       "    <tr>\n",
       "      <th>1</th>\n",
       "      <td>0.05</td>\n",
       "      <td>118.0</td>\n",
       "      <td>16.0</td>\n",
       "      <td>69.0</td>\n",
       "      <td>4.0</td>\n",
       "      <td>0.800000</td>\n",
       "      <td>0.188235</td>\n",
       "      <td>0.304762</td>\n",
       "      <td>0.647343</td>\n",
       "    </tr>\n",
       "    <tr>\n",
       "      <th>2</th>\n",
       "      <td>0.10</td>\n",
       "      <td>118.0</td>\n",
       "      <td>16.0</td>\n",
       "      <td>69.0</td>\n",
       "      <td>4.0</td>\n",
       "      <td>0.800000</td>\n",
       "      <td>0.188235</td>\n",
       "      <td>0.304762</td>\n",
       "      <td>0.647343</td>\n",
       "    </tr>\n",
       "    <tr>\n",
       "      <th>3</th>\n",
       "      <td>0.15</td>\n",
       "      <td>118.0</td>\n",
       "      <td>16.0</td>\n",
       "      <td>69.0</td>\n",
       "      <td>4.0</td>\n",
       "      <td>0.800000</td>\n",
       "      <td>0.188235</td>\n",
       "      <td>0.304762</td>\n",
       "      <td>0.647343</td>\n",
       "    </tr>\n",
       "    <tr>\n",
       "      <th>4</th>\n",
       "      <td>0.20</td>\n",
       "      <td>118.0</td>\n",
       "      <td>16.0</td>\n",
       "      <td>69.0</td>\n",
       "      <td>4.0</td>\n",
       "      <td>0.800000</td>\n",
       "      <td>0.188235</td>\n",
       "      <td>0.304762</td>\n",
       "      <td>0.647343</td>\n",
       "    </tr>\n",
       "    <tr>\n",
       "      <th>5</th>\n",
       "      <td>0.25</td>\n",
       "      <td>118.0</td>\n",
       "      <td>16.0</td>\n",
       "      <td>69.0</td>\n",
       "      <td>4.0</td>\n",
       "      <td>0.800000</td>\n",
       "      <td>0.188235</td>\n",
       "      <td>0.304762</td>\n",
       "      <td>0.647343</td>\n",
       "    </tr>\n",
       "    <tr>\n",
       "      <th>6</th>\n",
       "      <td>0.30</td>\n",
       "      <td>118.0</td>\n",
       "      <td>16.0</td>\n",
       "      <td>69.0</td>\n",
       "      <td>4.0</td>\n",
       "      <td>0.800000</td>\n",
       "      <td>0.188235</td>\n",
       "      <td>0.304762</td>\n",
       "      <td>0.647343</td>\n",
       "    </tr>\n",
       "    <tr>\n",
       "      <th>7</th>\n",
       "      <td>0.35</td>\n",
       "      <td>118.0</td>\n",
       "      <td>16.0</td>\n",
       "      <td>69.0</td>\n",
       "      <td>4.0</td>\n",
       "      <td>0.800000</td>\n",
       "      <td>0.188235</td>\n",
       "      <td>0.304762</td>\n",
       "      <td>0.647343</td>\n",
       "    </tr>\n",
       "    <tr>\n",
       "      <th>8</th>\n",
       "      <td>0.40</td>\n",
       "      <td>118.0</td>\n",
       "      <td>16.0</td>\n",
       "      <td>69.0</td>\n",
       "      <td>4.0</td>\n",
       "      <td>0.800000</td>\n",
       "      <td>0.188235</td>\n",
       "      <td>0.304762</td>\n",
       "      <td>0.647343</td>\n",
       "    </tr>\n",
       "  </tbody>\n",
       "</table>\n",
       "</div>"
      ],
      "text/plain": [
       "   Threshold     TN    TP    FN     FP  Precision    Recall        F1  \\\n",
       "0       0.00    0.0  85.0   0.0  122.0   0.410628  1.000000  0.582192   \n",
       "1       0.05  118.0  16.0  69.0    4.0   0.800000  0.188235  0.304762   \n",
       "2       0.10  118.0  16.0  69.0    4.0   0.800000  0.188235  0.304762   \n",
       "3       0.15  118.0  16.0  69.0    4.0   0.800000  0.188235  0.304762   \n",
       "4       0.20  118.0  16.0  69.0    4.0   0.800000  0.188235  0.304762   \n",
       "5       0.25  118.0  16.0  69.0    4.0   0.800000  0.188235  0.304762   \n",
       "6       0.30  118.0  16.0  69.0    4.0   0.800000  0.188235  0.304762   \n",
       "7       0.35  118.0  16.0  69.0    4.0   0.800000  0.188235  0.304762   \n",
       "8       0.40  118.0  16.0  69.0    4.0   0.800000  0.188235  0.304762   \n",
       "\n",
       "   Accuracy  \n",
       "0  0.410628  \n",
       "1  0.647343  \n",
       "2  0.647343  \n",
       "3  0.647343  \n",
       "4  0.647343  \n",
       "5  0.647343  \n",
       "6  0.647343  \n",
       "7  0.647343  \n",
       "8  0.647343  "
      ]
     },
     "execution_count": 25,
     "metadata": {},
     "output_type": "execute_result"
    }
   ],
   "source": [
    "performance_df"
   ]
  },
  {
   "cell_type": "markdown",
   "id": "0df4b5c6",
   "metadata": {},
   "source": [
    "### Result 1: Threshold = 0.2"
   ]
  },
  {
   "cell_type": "code",
   "execution_count": 21,
   "id": "d8dd5282",
   "metadata": {},
   "outputs": [
    {
     "name": "stdout",
     "output_type": "stream",
     "text": [
      "When threshold = 0.2\n",
      "There is/are 4.0 false positive.\n",
      "There is/are 69.0 false negaive.\n"
     ]
    }
   ],
   "source": [
    "threshold_value = 0.2\n",
    "threshold_df = performance_df[performance_df['Threshold'] == threshold_value]\n",
    "FP = threshold_df['FP'].values[0]\n",
    "FN = threshold_df['FN'].values[0]\n",
    "\n",
    "print(f\"When threshold = {threshold_value}\")\n",
    "print(f\"There is/are {FP} false positive.\")\n",
    "print(f\"There is/are {FN} false negaive.\")"
   ]
  },
  {
   "cell_type": "markdown",
   "id": "8c1223ec",
   "metadata": {},
   "source": [
    "### False Positive\n",
    "\n",
    "- Meaning:<br>\n",
    "\n",
    "> In the case of customers whose loan applications were not actually approved, the predictive model incorrectly classified 4 customers as eligible for approval.\n",
    "\n",
    "- Potential costs to the business<br>\n",
    "\n",
    "> Such errors in judgment may lead to the regional bank overestimating the loan repayment ability of customers. Consequently, the bank might **face challenges in successfully recovering the monthly loan amounts from customers.**\n",
    "\n",
    "### False Negative\n",
    "- Meaning<br>\n",
    "\n",
    "> In the case of customers whose loan applications were actually approved, the predictive model incorrectly classified 69 customers as unable to pass the application successfully.\n",
    "\n",
    "- Potential costs to the business<br>\n",
    "\n",
    "> Such errors in judgment may result in eligible customers seeking loans from other banks, leading to a high probability of **customer attrition and a decrease in the bank's market share.**\n",
    "\n",
    "### More costly prediction mistakes\n",
    "- In my opinion, **false negative may be more costly** because the kind of mistake could result in a decline in the company's reputation in the market. To be specific, there's a possibility of gradually being phased out in the market competition due to these errors."
   ]
  },
  {
   "cell_type": "markdown",
   "id": "cdb28c30",
   "metadata": {},
   "source": [
    "### Result 2: Threshold = 0.25"
   ]
  },
  {
   "cell_type": "code",
   "execution_count": 22,
   "id": "ad88791f",
   "metadata": {},
   "outputs": [
    {
     "name": "stdout",
     "output_type": "stream",
     "text": [
      "When threshold = 0.25\n",
      "There is/are 4.0 false positive.\n",
      "There is/are 69.0 false negaive.\n"
     ]
    }
   ],
   "source": [
    "threshold_value = 0.25\n",
    "threshold_df = performance_df[performance_df['Threshold'] == threshold_value]\n",
    "FP = threshold_df['FP'].values[0]\n",
    "FN = threshold_df['FN'].values[0]\n",
    "\n",
    "print(f\"When threshold = {threshold_value}\")\n",
    "print(f\"There is/are {FP} false positive.\")\n",
    "print(f\"There is/are {FN} false negaive.\")"
   ]
  },
  {
   "cell_type": "markdown",
   "id": "1e3090bb",
   "metadata": {},
   "source": [
    "### False Positive\n",
    "\n",
    "- Meaning:<br>\n",
    "\n",
    "> In the case of customers whose loan applications were not actually approved, the predictive model incorrectly classified 4 customers as eligible for approval.\n",
    "\n",
    "- Potential costs to the business<br>\n",
    "\n",
    "> Such errors in judgment may lead to the regional bank overestimating the loan repayment ability of customers. Consequently, the bank might **face challenges in successfully recovering the monthly loan amounts from customers.**\n",
    "\n",
    "### False Negative\n",
    "- Meaning<br>\n",
    "\n",
    "> In the case of customers whose loan applications were actually approved, the predictive model incorrectly classified 69 customers as unable to pass the application successfully.\n",
    "\n",
    "- Potential costs to the business<br>\n",
    "\n",
    "> Such errors in judgment may result in eligible customers seeking loans from other banks, leading to a high probability of **customer attrition and a decrease in the bank's market share.**\n",
    "\n",
    "### More costly prediction mistakes\n",
    "- In my opinion, **false negative may be more costly** because the kind of mistake could result in a decline in the company's reputation in the market. To be specific, there's a possibility of gradually being phased out in the market competition due to these errors."
   ]
  },
  {
   "cell_type": "markdown",
   "id": "0c47be6c",
   "metadata": {},
   "source": [
    "### Result 3: Threshold = 0"
   ]
  },
  {
   "cell_type": "code",
   "execution_count": 26,
   "id": "e878e404",
   "metadata": {},
   "outputs": [
    {
     "name": "stdout",
     "output_type": "stream",
     "text": [
      "When threshold = 0\n",
      "There is/are 122.0 false positive.\n",
      "There is/are 0.0 false negaive.\n"
     ]
    }
   ],
   "source": [
    "threshold_value = 0\n",
    "threshold_df = performance_df[performance_df['Threshold'] == threshold_value]\n",
    "FP = threshold_df['FP'].values[0]\n",
    "FN = threshold_df['FN'].values[0]\n",
    "\n",
    "print(f\"When threshold = {threshold_value}\")\n",
    "print(f\"There is/are {FP} false positive.\")\n",
    "print(f\"There is/are {FN} false negaive.\")"
   ]
  },
  {
   "cell_type": "markdown",
   "id": "4cbddc4a",
   "metadata": {},
   "source": [
    "### False Positive\n",
    "\n",
    "- Meaning:<br>\n",
    "\n",
    "> In the case of customers whose loan applications were not actually approved, the predictive model incorrectly classified 122 customers as eligible for approval.\n",
    "\n",
    "- Potential costs to the business<br>\n",
    "\n",
    "> Such errors in judgment may lead to the regional bank overestimating the loan repayment ability of customers. Consequently, the bank might **face challenges in successfully recovering the monthly loan amounts from customers.**\n",
    "\n",
    "### False Negative\n",
    "- Meaning<br>\n",
    "\n",
    "> In the actual list of customers who were successfully granted loans, the predictive model did not make any errors in classifying anyone as ineligible for a successful loan application.\n",
    "\n",
    "- Potential costs to the business<br>\n",
    "\n",
    "> Such errors in judgment may result in eligible customers seeking loans from other banks, leading to a high probability of **customer attrition and a decrease in the bank's market share.**\n",
    "\n",
    "### More costly prediction mistakes\n",
    "- In my opinion, **false negative may be more costly** because the kind of mistake could result in a decline in the company's reputation in the market. To be specific, there's a possibility of gradually being phased out in the market competition due to these errors."
   ]
  },
  {
   "cell_type": "markdown",
   "id": "89b3543b",
   "metadata": {},
   "source": [
    "## Recommend Probability Threshold\n",
    "- In this case, I reccomend the probability threshold ≥ 0.05 because the performance which are bigger than 0.05 are the same."
   ]
  }
 ],
 "metadata": {
  "kernelspec": {
   "display_name": "Python 3 (ipykernel)",
   "language": "python",
   "name": "python3"
  },
  "language_info": {
   "codemirror_mode": {
    "name": "ipython",
    "version": 3
   },
   "file_extension": ".py",
   "mimetype": "text/x-python",
   "name": "python",
   "nbconvert_exporter": "python",
   "pygments_lexer": "ipython3",
   "version": "3.11.4"
  }
 },
 "nbformat": 4,
 "nbformat_minor": 5
}
